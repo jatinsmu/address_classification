{
 "cells": [
  {
   "cell_type": "code",
   "execution_count": 5,
   "metadata": {
    "collapsed": true,
    "pycharm": {
     "is_executing": false,
     "name": "#%% importing libraries\n"
    }
   },
   "outputs": [],
   "source": [
    "import pickle\n",
    "import warnings\n",
    "\n",
    "import numpy as np\n",
    "import pandas as pd\n",
    "from sklearn.ensemble import RandomForestClassifier\n",
    "from sklearn.feature_extraction.text import TfidfVectorizer\n",
    "from sklearn.metrics import accuracy_score\n",
    "from sklearn.metrics import classification_report, confusion_matrix\n",
    "from sklearn.model_selection import RandomizedSearchCV\n",
    "from sklearn.model_selection import train_test_split\n",
    "\n",
    "tfidfconverter = TfidfVectorizer()\n"
   ]
  },
  {
   "cell_type": "code",
   "execution_count": 6,
   "outputs": [
    {
     "data": {
      "text/plain": "       classification postal_code  street_number street_name street_type\ncount           10557       10557   10557.000000       10557       10557\nunique              2        5198            NaN        2561          41\ntop       Residential     B0J 1N0            NaN   SACKVILLE          RD\nfreq             5280         109            NaN         189        2974\nmean              NaN         NaN    1157.307663         NaN         NaN\nstd               NaN         NaN    2036.312631         NaN         NaN\nmin               NaN         NaN       1.000000         NaN         NaN\n25%               NaN         NaN      34.000000         NaN         NaN\n50%               NaN         NaN     137.000000         NaN         NaN\n75%               NaN         NaN    1410.000000         NaN         NaN\nmax               NaN         NaN   13595.000000         NaN         NaN",
      "text/html": "<div>\n<style scoped>\n    .dataframe tbody tr th:only-of-type {\n        vertical-align: middle;\n    }\n\n    .dataframe tbody tr th {\n        vertical-align: top;\n    }\n\n    .dataframe thead th {\n        text-align: right;\n    }\n</style>\n<table border=\"1\" class=\"dataframe\">\n  <thead>\n    <tr style=\"text-align: right;\">\n      <th></th>\n      <th>classification</th>\n      <th>postal_code</th>\n      <th>street_number</th>\n      <th>street_name</th>\n      <th>street_type</th>\n    </tr>\n  </thead>\n  <tbody>\n    <tr>\n      <th>count</th>\n      <td>10557</td>\n      <td>10557</td>\n      <td>10557.000000</td>\n      <td>10557</td>\n      <td>10557</td>\n    </tr>\n    <tr>\n      <th>unique</th>\n      <td>2</td>\n      <td>5198</td>\n      <td>NaN</td>\n      <td>2561</td>\n      <td>41</td>\n    </tr>\n    <tr>\n      <th>top</th>\n      <td>Residential</td>\n      <td>B0J 1N0</td>\n      <td>NaN</td>\n      <td>SACKVILLE</td>\n      <td>RD</td>\n    </tr>\n    <tr>\n      <th>freq</th>\n      <td>5280</td>\n      <td>109</td>\n      <td>NaN</td>\n      <td>189</td>\n      <td>2974</td>\n    </tr>\n    <tr>\n      <th>mean</th>\n      <td>NaN</td>\n      <td>NaN</td>\n      <td>1157.307663</td>\n      <td>NaN</td>\n      <td>NaN</td>\n    </tr>\n    <tr>\n      <th>std</th>\n      <td>NaN</td>\n      <td>NaN</td>\n      <td>2036.312631</td>\n      <td>NaN</td>\n      <td>NaN</td>\n    </tr>\n    <tr>\n      <th>min</th>\n      <td>NaN</td>\n      <td>NaN</td>\n      <td>1.000000</td>\n      <td>NaN</td>\n      <td>NaN</td>\n    </tr>\n    <tr>\n      <th>25%</th>\n      <td>NaN</td>\n      <td>NaN</td>\n      <td>34.000000</td>\n      <td>NaN</td>\n      <td>NaN</td>\n    </tr>\n    <tr>\n      <th>50%</th>\n      <td>NaN</td>\n      <td>NaN</td>\n      <td>137.000000</td>\n      <td>NaN</td>\n      <td>NaN</td>\n    </tr>\n    <tr>\n      <th>75%</th>\n      <td>NaN</td>\n      <td>NaN</td>\n      <td>1410.000000</td>\n      <td>NaN</td>\n      <td>NaN</td>\n    </tr>\n    <tr>\n      <th>max</th>\n      <td>NaN</td>\n      <td>NaN</td>\n      <td>13595.000000</td>\n      <td>NaN</td>\n      <td>NaN</td>\n    </tr>\n  </tbody>\n</table>\n</div>"
     },
     "metadata": {},
     "output_type": "execute_result",
     "execution_count": 6
    }
   ],
   "source": [
    "warnings.filterwarnings('ignore')\n",
    "\n",
    "#import train and test CSV files\n",
    "train = pd.read_csv(\"TestData_v8.csv\")\n",
    "predictors = train.drop([\"classification\"], axis=1)\n",
    "target = train[\"classification\"]\n",
    "train.describe(include=\"all\")\n"
   ],
   "metadata": {
    "collapsed": false,
    "pycharm": {
     "name": "#%% loading data\n",
     "is_executing": false
    }
   }
  },
  {
   "cell_type": "code",
   "execution_count": 7,
   "outputs": [],
   "source": [
    "# predictors['street_number'] = tfidfconverter.fit_transform(predictors['street_number']).toarray()\n",
    "predictors['street_name'] = tfidfconverter.fit_transform(predictors['street_name']).toarray()\n",
    "predictors['street_type'] = tfidfconverter.fit_transform(predictors['street_type']).toarray()\n",
    "predictors['postal_code'] = tfidfconverter.fit_transform(predictors['postal_code']).toarray()\n",
    "\n",
    "# testing and training split  \n",
    "x_train, x_val, y_train, y_test = train_test_split(predictors, target, test_size = 0.2)  "
   ],
   "metadata": {
    "collapsed": false,
    "pycharm": {
     "name": "#%% tfidf vectorization\n",
     "is_executing": false
    }
   }
  },
  {
   "cell_type": "code",
   "execution_count": null,
   "outputs": [],
   "source": [
    "# Use the random grid to search for best hyperparameters\n",
    "\n",
    "# Number of trees in random forest\n",
    "n_estimators = [int(x) for x in np.linspace(start = 200, stop = 1800, num = 10)]\n",
    "# Number of features to consider at every split\n",
    "max_features = ['auto', 'sqrt']\n",
    "# Maximum number of levels in tree\n",
    "max_depth = [int(x) for x in np.linspace(10, 110, num = 11)]\n",
    "max_depth.append(None)\n",
    "# Minimum number of samples required to split a node\n",
    "min_samples_split = [2, 5, 10]\n",
    "# Minimum number of samples required at each leaf node\n",
    "min_samples_leaf = [1, 2, 4]\n",
    "# Method of selecting samples for training each tree\n",
    "bootstrap = [True, False]\n",
    "# Create the random grid\n",
    "random_grid = {'n_estimators': n_estimators,\n",
    "               'max_features': max_features,\n",
    "               'max_depth': max_depth,\n",
    "               'min_samples_split': min_samples_split,\n",
    "               'min_samples_leaf': min_samples_leaf,\n",
    "               'bootstrap': bootstrap}\n",
    "\n",
    "print(random_grid)"
   ],
   "metadata": {
    "collapsed": false,
    "pycharm": {
     "name": "#%% \n",
     "is_executing": false
    }
   }
  },
  {
   "cell_type": "code",
   "execution_count": null,
   "outputs": [],
   "source": [
    "# First create the base model to tune\n",
    "rf = RandomForestClassifier()\n",
    "# Random search of parameters, using 3 fold cross validation, \n",
    "# search across 100 different combinations, and use all available cores\n",
    "rf_random = RandomizedSearchCV(estimator = rf, param_distributions = random_grid, n_iter = 100, cv = 3, verbose=2, random_state=42, n_jobs = -1)\n",
    "# Fit the random search model\n",
    "rf_random.fit(x_train, y_train)"
   ],
   "metadata": {
    "collapsed": false,
    "pycharm": {
     "name": "#%%\n"
    }
   }
  },
  {
   "cell_type": "code",
   "execution_count": null,
   "outputs": [],
   "source": [
    "# finding the best parameters\n",
    "rf_random.best_params_\n",
    "\n"
   ],
   "metadata": {
    "collapsed": false,
    "pycharm": {
     "name": "#%%\n"
    }
   }
  },
  {
   "cell_type": "code",
   "execution_count": 10,
   "outputs": [
    {
     "data": {
      "text/plain": "RandomForestClassifier(bootstrap=True, class_weight=None, criterion='gini',\n                       max_depth=10, max_features='sqrt', max_leaf_nodes=None,\n                       min_impurity_decrease=0.0, min_impurity_split=None,\n                       min_samples_leaf=4, min_samples_split=2,\n                       min_weight_fraction_leaf=0.0, n_estimators=377,\n                       n_jobs=None, oob_score=False, random_state=None,\n                       verbose=0, warm_start=False)"
     },
     "metadata": {},
     "output_type": "execute_result",
     "execution_count": 10
    }
   ],
   "source": [
    "randomforest = RandomForestClassifier(n_estimators= 377,\n",
    "min_samples_split= 2,\n",
    "min_samples_leaf= 4,\n",
    "max_features= 'sqrt',\n",
    "max_depth= 10,\n",
    "bootstrap= True)\n",
    "randomforest._vectorizer = tfidfconverter\n",
    "randomforest.fit(x_train, y_train)\n",
    "\n"
   ],
   "metadata": {
    "collapsed": false,
    "pycharm": {
     "name": "#%% random forest algorithm\n",
     "is_executing": false
    }
   }
  },
  {
   "cell_type": "code",
   "execution_count": 11,
   "outputs": [],
   "source": [
    "y_pred = randomforest.predict(x_val)\n",
    "\n",
    "\n"
   ],
   "metadata": {
    "collapsed": false,
    "pycharm": {
     "name": "#%% predicting\n",
     "is_executing": false
    }
   }
  },
  {
   "cell_type": "code",
   "execution_count": 12,
   "outputs": [
    {
     "name": "stdout",
     "text": [
      "[[618 424]\n [294 776]]\n                 precision    recall  f1-score   support\n\nNon Residential       0.68      0.59      0.63      1042\n    Residential       0.65      0.73      0.68      1070\n\n       accuracy                           0.66      2112\n      macro avg       0.66      0.66      0.66      2112\n   weighted avg       0.66      0.66      0.66      2112\n\n0.6600378787878788\n"
     ],
     "output_type": "stream"
    }
   ],
   "source": [
    "print(confusion_matrix(y_test,y_pred))\n",
    "print(classification_report(y_test,y_pred))\n",
    "print(accuracy_score(y_test, y_pred))\n"
   ],
   "metadata": {
    "collapsed": false,
    "pycharm": {
     "name": "#%% calculating accuracy\n",
     "is_executing": false
    }
   }
  },
  {
   "cell_type": "code",
   "execution_count": 13,
   "outputs": [],
   "source": [
    "pickle.dump(randomforest, open('model.pkl', 'wb'))\n",
    "\n"
   ],
   "metadata": {
    "collapsed": false,
    "pycharm": {
     "name": "#%% saving model\n",
     "is_executing": false
    }
   }
  },
  {
   "cell_type": "code",
   "execution_count": 44,
   "outputs": [
    {
     "name": "stdout",
     "text": [
      "Residential\n0.6302924953642615\n"
     ],
     "output_type": "stream"
    }
   ],
   "source": [
    "loaded_model = pickle.load(open('model.pkl', 'rb'))\n",
    "street_number = 55\n",
    "street_name = \"powers\"\n",
    "street_type = \"dr\"\n",
    "postal_code = \"b3v1g6\"\n",
    "new_df = pd.DataFrame({\"postal_code\":[postal_code],\"street_number\":[street_number], \"street_name\":[street_name], 'street_type' : [street_type]}) \n",
    "# new_df['street_number'] = tfidfconverter.transform(new_df['street_number']).toarray()\n",
    "new_df['street_name'] = tfidfconverter.transform(new_df['street_name']).toarray()\n",
    "new_df['street_type'] = tfidfconverter.transform(new_df['street_type']).toarray()\n",
    "new_df['postal_code'] = tfidfconverter.transform(new_df['postal_code']).toarray()\n",
    "result = str(loaded_model.predict(new_df)[0])\n",
    "print(result)\n",
    "prob = list(loaded_model.predict_proba(new_df)[0])\n",
    "if result == \"Residential\":\n",
    "    score = prob[1]\n",
    "    # print(score)\n",
    "else:\n",
    "    score = prob[0]\n",
    "    # print(score)\n",
    "print(score)\n",
    "\n",
    "\n"
   ],
   "metadata": {
    "collapsed": false,
    "pycharm": {
     "name": "#%% loading and predicting\n",
     "is_executing": false
    }
   }
  }
 ],
 "metadata": {
  "kernelspec": {
   "display_name": "Python 3",
   "language": "python",
   "name": "python3"
  },
  "language_info": {
   "codemirror_mode": {
    "name": "ipython",
    "version": 2
   },
   "file_extension": ".py",
   "mimetype": "text/x-python",
   "name": "python",
   "nbconvert_exporter": "python",
   "pygments_lexer": "ipython2",
   "version": "2.7.6"
  },
  "pycharm": {
   "stem_cell": {
    "cell_type": "raw",
    "source": [],
    "metadata": {
     "collapsed": false
    }
   }
  }
 },
 "nbformat": 4,
 "nbformat_minor": 0
}